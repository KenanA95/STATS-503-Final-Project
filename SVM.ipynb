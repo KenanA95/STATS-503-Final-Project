{
 "cells": [
  {
   "cell_type": "code",
   "execution_count": null,
   "id": "813474aa",
   "metadata": {},
   "outputs": [],
   "source": [
    "import numpy as np\n",
    "import pandas as pd\n",
    "import matplotlib as plt\n",
    "import time as t\n",
    "\n",
    "from sklearn import svm\n",
    "from sklearn import metrics"
   ]
  },
  {
   "cell_type": "code",
   "execution_count": null,
   "id": "df8ab8b8",
   "metadata": {},
   "outputs": [],
   "source": [
    "train = pd.read_csv('train.csv')\n",
    "test = pd.read_csv('test.csv')"
   ]
  },
  {
   "cell_type": "code",
   "execution_count": null,
   "id": "877dc0b3",
   "metadata": {},
   "outputs": [],
   "source": [
    "train_label = train['HeartDisease']\n",
    "train_set = train.drop(['HeartDisease'], axis = 1)\n",
    "\n",
    "test_label = test['HeartDisease']\n",
    "test_set = test.drop(['HeartDisease'], axis = 1)"
   ]
  },
  {
   "cell_type": "code",
   "execution_count": null,
   "id": "a0591709",
   "metadata": {},
   "outputs": [],
   "source": [
    "train.shape"
   ]
  },
  {
   "cell_type": "markdown",
   "id": "1e581b15",
   "metadata": {},
   "source": [
    "# CONTENTS\n",
    "1. [Stratified Sample](#Stratified-Sample)\n",
    "2. [Parameter Tuning](#Parameter-Tuning)\n",
    "3. [SMOTEd Sample](#SMOTEd-Data)\n",
    "4. [50-50 split](#50-50-Split-Data)"
   ]
  },
  {
   "cell_type": "markdown",
   "id": "f670edd9",
   "metadata": {},
   "source": [
    "# Stratified Sample"
   ]
  },
  {
   "cell_type": "markdown",
   "id": "2a268210",
   "metadata": {},
   "source": [
    "### Linear Kernel"
   ]
  },
  {
   "cell_type": "code",
   "execution_count": null,
   "id": "60abb3b9",
   "metadata": {},
   "outputs": [],
   "source": [
    "ts = t.time()"
   ]
  },
  {
   "cell_type": "code",
   "execution_count": null,
   "id": "90a395da",
   "metadata": {},
   "outputs": [],
   "source": [
    "clf = svm.SVC(C = 1)\n",
    "clf.fit(train_set, train_label)\n",
    "pred_label = clf.predict(test_set)\n",
    "\n",
    "acc = round(metrics.accuracy_score(test_label, pred_label)*100, 3)\n",
    "print(\"Accuracy: \", acc, '%')"
   ]
  },
  {
   "cell_type": "code",
   "execution_count": null,
   "id": "b7534aa1",
   "metadata": {},
   "outputs": [],
   "source": [
    "from sklearn.metrics import confusion_matrix\n",
    "confuse = confusion_matrix(test_label, pred_label)\n",
    "print(\"Class No Accuracy: %f\" % (confuse[0,0] / sum(confuse[0,:])))\n",
    "print(\"Class Yes Accuracy: %f\" % (confuse[1,1] / sum(confuse[1,:])))"
   ]
  },
  {
   "cell_type": "code",
   "execution_count": null,
   "id": "b63a4e4d",
   "metadata": {},
   "outputs": [],
   "source": [
    "from sklearn.metrics import classification_report\n",
    "report = classification_report(test_label, pred_label, output_dict=True)\n",
    "pdreport = pd.DataFrame(report).transpose()\n",
    "print(pdreport.style.to_latex())"
   ]
  },
  {
   "cell_type": "code",
   "execution_count": null,
   "id": "017742ab",
   "metadata": {},
   "outputs": [],
   "source": [
    "te = t.time() - ts\n",
    "print(te)"
   ]
  },
  {
   "cell_type": "markdown",
   "id": "6e0e3042",
   "metadata": {},
   "source": [
    "#### Polynomial Kernel -- takes too long"
   ]
  },
  {
   "cell_type": "code",
   "execution_count": null,
   "id": "37fcc728",
   "metadata": {},
   "outputs": [],
   "source": [
    "ts = t.time()"
   ]
  },
  {
   "cell_type": "code",
   "execution_count": null,
   "id": "f394eb8d",
   "metadata": {},
   "outputs": [],
   "source": [
    "poly_clf = svm.SVC(kernel='poly', gamma = 0.1, C = 1, degree = 3)\n",
    "poly_clf.fit(train_set, train_label)\n",
    "poly_pred = poly_clf.predict(test_set)\n",
    "\n",
    "poly_acc = round(metrics.accuracy_score(test_label, poly_pred)*100, 3)\n",
    "print('Accuracy : %f', poly_acc * 100)"
   ]
  },
  {
   "cell_type": "code",
   "execution_count": null,
   "id": "ca79fbdd",
   "metadata": {},
   "outputs": [],
   "source": [
    "te = t.time() - ts\n",
    "print(te)"
   ]
  },
  {
   "cell_type": "markdown",
   "id": "df81f8ac",
   "metadata": {},
   "source": [
    "### RBF Kernel"
   ]
  },
  {
   "cell_type": "code",
   "execution_count": null,
   "id": "d1dd271f",
   "metadata": {},
   "outputs": [],
   "source": [
    "rbf_clf = svm.SVC(kernel='rbf', gamma = 0.1, C = 1)\n",
    "rbf_clf.fit(train_set, train_label)\n",
    "rbf_pred = rbf_clf.predict(test_set)\n",
    "\n",
    "rbf_acc = round(metrics.accuracy_score(test_label, rbf_pred)*100, 3)\n",
    "print('Accuracy :', rbf_acc, '%')"
   ]
  },
  {
   "cell_type": "markdown",
   "id": "58039909",
   "metadata": {},
   "source": [
    "### Sigmoid Kernel"
   ]
  },
  {
   "cell_type": "code",
   "execution_count": null,
   "id": "4faa6086",
   "metadata": {},
   "outputs": [],
   "source": [
    "sig_clf = svm.SVC(kernel='sigmoid', gamma = 0.01, C = 10)\n",
    "sig_clf.fit(train_set, train_label)\n",
    "sig_pred = sig_clf.predict(test_set)\n",
    "\n",
    "sig_acc = round(metrics.accuracy_score(test_label, sig_pred)*100, 3)\n",
    "print('Accuracy :', sig_acc, '%')"
   ]
  },
  {
   "cell_type": "markdown",
   "id": "aef8ef22",
   "metadata": {},
   "source": [
    "Linear, polynomial and rbf kernel SVMs all have similaraccuracies; class boundaries might be linear.\n",
    "<br>\n",
    "We now consider only the linear SVM model, because of its lower computational cost and time to compute."
   ]
  },
  {
   "cell_type": "markdown",
   "id": "b4d2474f",
   "metadata": {},
   "source": [
    "## Parameter Tuning"
   ]
  },
  {
   "cell_type": "code",
   "execution_count": null,
   "id": "1dbea496",
   "metadata": {},
   "outputs": [],
   "source": [
    "from sklearn.model_selection import GridSearchCV\n",
    "\n",
    "#parameter_grid = {'C': [0.01, 0.1, 1, 10, 100], 'gamma': [1,0.1,0.01,0.001],'kernel': ['rbf']} #, 'poly', 'sigmoid']}\n",
    "c_list = [0.01, 0.1, 1, 10, 100]\n",
    "c_grid = {'C' : c_list}"
   ]
  },
  {
   "cell_type": "code",
   "execution_count": null,
   "id": "40ab85f5",
   "metadata": {
    "scrolled": true
   },
   "outputs": [],
   "source": [
    "grid = GridSearchCV(svm.SVC(), c_grid, refit=True, return_train_score = True, verbose=2)\n",
    "grid.fit(train50_set, train50_label)\n",
    "\n",
    "#print(grid.cv_results_)"
   ]
  },
  {
   "cell_type": "markdown",
   "id": "d426e907",
   "metadata": {},
   "source": [
    "# SMOTEd Data"
   ]
  },
  {
   "cell_type": "code",
   "execution_count": null,
   "id": "90b40e93",
   "metadata": {},
   "outputs": [],
   "source": [
    "os_train = pd.read_csv('train_smoted.csv')\n",
    "os_test = pd.read_csv('test_smoted.csv')"
   ]
  },
  {
   "cell_type": "code",
   "execution_count": null,
   "id": "08ca359b",
   "metadata": {},
   "outputs": [],
   "source": [
    "os_trainX = os_train.drop(['HeartDisease'], axis = 1)\n",
    "os_trainy = os_train['HeartDisease']\n",
    "\n",
    "os_testX = os_test.drop(['HeartDisease'], axis = 1)\n",
    "os_testy = os_test['HeartDisease']"
   ]
  },
  {
   "cell_type": "markdown",
   "id": "2a8b4097",
   "metadata": {},
   "source": [
    "### Linear Kernel"
   ]
  },
  {
   "cell_type": "code",
   "execution_count": null,
   "id": "4b75fcb0",
   "metadata": {},
   "outputs": [],
   "source": [
    "ts = t.time()"
   ]
  },
  {
   "cell_type": "code",
   "execution_count": null,
   "id": "b475d8ad",
   "metadata": {},
   "outputs": [],
   "source": [
    "from sklearn import svm\n",
    "\n",
    "clf = svm.SVC(C=100)\n",
    "clf.fit(os_trainX, os_trainy)\n",
    "pred_label = clf.predict(os_testX)\n",
    "\n",
    "from sklearn import metrics\n",
    "lin_acc = round(metrics.accuracy_score(os_testy, pred_label)*100, 3)\n",
    "print('Accuracy :', lin_acc, '%')"
   ]
  },
  {
   "cell_type": "code",
   "execution_count": null,
   "id": "70c40454",
   "metadata": {
    "scrolled": true
   },
   "outputs": [],
   "source": [
    "print(t.time() - ts)"
   ]
  },
  {
   "cell_type": "code",
   "execution_count": null,
   "id": "2316e331",
   "metadata": {
    "scrolled": true
   },
   "outputs": [],
   "source": [
    "from sklearn.metrics import classification_report\n",
    "print(classification_report(os_testy, pred_label, output_dict = True))"
   ]
  },
  {
   "cell_type": "code",
   "execution_count": null,
   "id": "5df4be88",
   "metadata": {
    "scrolled": true
   },
   "outputs": [],
   "source": [
    "# print table for latex\n",
    "\n",
    "rep = classification_report(os_testy, pred_label, output_dict=True)\n",
    "pdrep = pd.DataFrame(rep).transpose()\n",
    "print(pdrep.style.to_latex())"
   ]
  },
  {
   "cell_type": "code",
   "execution_count": null,
   "id": "c5ebca11",
   "metadata": {
    "scrolled": false
   },
   "outputs": [],
   "source": [
    "from sklearn.metrics import confusion_matrix\n",
    "confuse = confusion_matrix(os_testy, pred_label)\n",
    "print(\"Class No Accuracy: %f\" % (confuse[0,0] / sum(confuse[0,:])))\n",
    "print(\"Class Yes Accuracy: %f\" % (confuse[1,1] / sum(confuse[1,:])))"
   ]
  },
  {
   "cell_type": "markdown",
   "id": "145e075e",
   "metadata": {},
   "source": [
    "### Sigmoid Kernel"
   ]
  },
  {
   "cell_type": "code",
   "execution_count": null,
   "id": "7f3ddfe7",
   "metadata": {},
   "outputs": [],
   "source": [
    "ts = t.time()"
   ]
  },
  {
   "cell_type": "code",
   "execution_count": null,
   "id": "815d6a2f",
   "metadata": {},
   "outputs": [],
   "source": [
    "sig_clf = svm.SVC(kernel='sigmoid', gamma = 0.01, C = 1)\n",
    "sig_clf.fit(os_trainX, os_trainy)\n",
    "sig_pred = sig_clf.predict(os_testX)\n",
    "\n",
    "sig_acc = round(metrics.accuracy_score(os_testy, sig_pred)*100, 3)\n",
    "print('Accuracy :', sig_acc, '%')"
   ]
  },
  {
   "cell_type": "code",
   "execution_count": null,
   "id": "d09f82f4",
   "metadata": {
    "scrolled": true
   },
   "outputs": [],
   "source": [
    "print(t.time() - ts)"
   ]
  },
  {
   "cell_type": "code",
   "execution_count": null,
   "id": "ebacaa2c",
   "metadata": {
    "scrolled": true
   },
   "outputs": [],
   "source": [
    "from sklearn.metrics import classification_report\n",
    "print(classification_report(os_testy, sig_pred))"
   ]
  },
  {
   "cell_type": "code",
   "execution_count": null,
   "id": "38d4f42e",
   "metadata": {
    "scrolled": true
   },
   "outputs": [],
   "source": [
    "from sklearn.metrics import confusion_matrix\n",
    "confuse_sig = confusion_matrix(os_testy, sig_pred)\n",
    "print(\"Class No Accuracy: %f\" % (confuse_sig[0,0] / sum(confuse_sig[0,:])))\n",
    "print(\"Class Yes Accuracy: %f\" % (confuse_sig[1,1] / sum(confuse_sig[1,:])))"
   ]
  },
  {
   "cell_type": "markdown",
   "id": "c29e2848",
   "metadata": {},
   "source": [
    "### rbf Kernel"
   ]
  },
  {
   "cell_type": "code",
   "execution_count": null,
   "id": "6c924869",
   "metadata": {},
   "outputs": [],
   "source": [
    "ts = t.time()"
   ]
  },
  {
   "cell_type": "code",
   "execution_count": null,
   "id": "c50b46d2",
   "metadata": {},
   "outputs": [],
   "source": [
    "rbf_clf = svm.SVC(kernel='rbf', gamma = 0.1, C = 1)\n",
    "rbf_clf.fit(os_trainX, os_trainy)\n",
    "rbf_pred = rbf_clf.predict(os_testX)\n",
    "\n",
    "rbf_acc = round(metrics.accuracy_score(os_testy, rbf_pred)*100, 3)\n",
    "print('Accuracy :', rbf_acc, '%')"
   ]
  },
  {
   "cell_type": "code",
   "execution_count": null,
   "id": "92d738c9",
   "metadata": {},
   "outputs": [],
   "source": [
    "print(t.time() - ts)"
   ]
  },
  {
   "cell_type": "code",
   "execution_count": null,
   "id": "6af96b99",
   "metadata": {},
   "outputs": [],
   "source": [
    "from sklearn.metrics import classification_report\n",
    "print(classification_report(os_testy, rbf_pred))"
   ]
  },
  {
   "cell_type": "code",
   "execution_count": null,
   "id": "d2115170",
   "metadata": {},
   "outputs": [],
   "source": [
    "from sklearn.metrics import confusion_matrix\n",
    "confusemat = confusion_matrix(os_testy, rbf_pred)\n",
    "print(\"Class No Accuracy: %f\" % (confusemat[0,0] / sum(confusemat[0,:])))\n",
    "print(\"Class Yes Accuracy: %f\" % (confusemat[1,1] / sum(confusemat[1,:])))"
   ]
  },
  {
   "cell_type": "markdown",
   "id": "c5c4b6ac",
   "metadata": {},
   "source": [
    "### Polynomial Kernel -- takes too long"
   ]
  },
  {
   "cell_type": "code",
   "execution_count": null,
   "id": "51c07dab",
   "metadata": {},
   "outputs": [],
   "source": [
    "ts = t.time()"
   ]
  },
  {
   "cell_type": "code",
   "execution_count": null,
   "id": "0046870c",
   "metadata": {},
   "outputs": [],
   "source": [
    "poly_clf = svm.SVC(kernel='poly', gamma = 0.1, C = 1, degree = 3)\n",
    "poly_clf.fit(os_trainX, os_trainy)\n",
    "poly_pred = poly_clf.predict(os_testX)\n",
    "\n",
    "poly_acc = round(metrics.accuracy_score(os_testy, poly_pred)*100, 3)\n",
    "print('Accuracy : %f', poly_acc * 100)"
   ]
  },
  {
   "cell_type": "code",
   "execution_count": null,
   "id": "8caae4f9",
   "metadata": {},
   "outputs": [],
   "source": [
    "print(t.time() - ts)"
   ]
  },
  {
   "cell_type": "markdown",
   "id": "c91f5e41",
   "metadata": {},
   "source": [
    "# 50-50 Split Data"
   ]
  },
  {
   "cell_type": "code",
   "execution_count": null,
   "id": "cb043740",
   "metadata": {},
   "outputs": [],
   "source": [
    "train50 = pd.read_csv('train50.csv')\n",
    "test50 = pd.read_csv('test50.csv')"
   ]
  },
  {
   "cell_type": "code",
   "execution_count": null,
   "id": "dc0b6493",
   "metadata": {},
   "outputs": [],
   "source": [
    "train50_label = train50['HeartDisease']\n",
    "train50_set = train50.drop(['HeartDisease'], axis = 1)\n",
    "\n",
    "test50_label = test50['HeartDisease']\n",
    "test50_set = test50.drop(['HeartDisease'], axis = 1)"
   ]
  },
  {
   "cell_type": "markdown",
   "id": "e94091f5",
   "metadata": {},
   "source": [
    "#### Linear Kernel"
   ]
  },
  {
   "cell_type": "code",
   "execution_count": null,
   "id": "3bd56d13",
   "metadata": {},
   "outputs": [],
   "source": [
    "clf = svm.SVC(C = 100)\n",
    "clf.fit(train50_set, train50_label)\n",
    "pred_label = clf.predict(test50_set)\n",
    "\n",
    "acc = round(metrics.accuracy_score(test50_label, pred_label)*100, 3)\n",
    "print(\"Accuracy: \", acc, '%')"
   ]
  },
  {
   "cell_type": "code",
   "execution_count": null,
   "id": "de51e27f",
   "metadata": {},
   "outputs": [],
   "source": [
    "from sklearn.metrics import confusion_matrix\n",
    "confuse = confusion_matrix(test50_label, pred_label)\n",
    "print(\"Class No Accuracy: %f\" % (confuse[0,0] / sum(confuse[0,:])))\n",
    "print(\"Class Yes Accuracy: %f\" % (confuse[1,1] / sum(confuse[1,:])))"
   ]
  },
  {
   "cell_type": "code",
   "execution_count": null,
   "id": "4a1baa1b",
   "metadata": {
    "scrolled": false
   },
   "outputs": [],
   "source": [
    "from sklearn.metrics import classification_report\n",
    "print(classification_report(test50_label, pred_label))"
   ]
  },
  {
   "cell_type": "code",
   "execution_count": null,
   "id": "5a00f5a8",
   "metadata": {
    "scrolled": true
   },
   "outputs": [],
   "source": [
    "# print as latex code\n",
    "\n",
    "rep = classification_report(test50_label, pred_label, output_dict=True)\n",
    "pdrep = pd.DataFrame(rep).transpose()\n",
    "print(pdrep.style.to_latex())"
   ]
  },
  {
   "cell_type": "code",
   "execution_count": null,
   "id": "e804268c",
   "metadata": {},
   "outputs": [],
   "source": [
    "# plot ROC\n",
    "\n",
    "pred_prob = clf.predict_proba(test50_set)[:,1]\n",
    "fpr, tpr, threshold = metrics.roc_curve(test50_label, pred_prob)\n",
    "roc_auc = metrics.auc(fpr, tpr)"
   ]
  },
  {
   "cell_type": "code",
   "execution_count": null,
   "id": "f8a6acc4",
   "metadata": {
    "scrolled": true
   },
   "outputs": [],
   "source": [
    "import matplotlib.pyplot as pl\n",
    "\n",
    "pl.plot(fpr, tpr, 'g', label = 'AUC = %0.2f' % roc_auc)\n",
    "pl.legend(loc = 'lower right')\n",
    "pl.xlim([0, 1])\n",
    "pl.ylim([0, 1])\n",
    "pl.ylabel('True Positive Rate')\n",
    "pl.xlabel('False Positive Rate')\n",
    "pl.show()\n",
    "pl.savefig('SVM50_ROC.png')"
   ]
  },
  {
   "cell_type": "markdown",
   "id": "883e9126",
   "metadata": {},
   "source": [
    "[Back to Contents](#CONTENTS)"
   ]
  }
 ],
 "metadata": {
  "kernelspec": {
   "display_name": "Python 3 (ipykernel)",
   "language": "python",
   "name": "python3"
  },
  "language_info": {
   "codemirror_mode": {
    "name": "ipython",
    "version": 3
   },
   "file_extension": ".py",
   "mimetype": "text/x-python",
   "name": "python",
   "nbconvert_exporter": "python",
   "pygments_lexer": "ipython3",
   "version": "3.9.6"
  }
 },
 "nbformat": 4,
 "nbformat_minor": 5
}
