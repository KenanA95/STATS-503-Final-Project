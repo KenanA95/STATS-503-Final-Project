{
 "cells": [
  {
   "cell_type": "code",
   "execution_count": 1,
   "id": "066c4ef4",
   "metadata": {},
   "outputs": [],
   "source": [
    "import numpy as np\n",
    "import pandas as pd\n",
    "import matplotlib as plt\n",
    "import time as t"
   ]
  },
  {
   "cell_type": "code",
   "execution_count": 2,
   "id": "778193c2",
   "metadata": {},
   "outputs": [],
   "source": [
    "heart = pd.read_csv('heart_2020_cleaned.csv')"
   ]
  },
  {
   "cell_type": "code",
   "execution_count": null,
   "id": "05faaeff",
   "metadata": {
    "scrolled": false
   },
   "outputs": [],
   "source": [
    "heart.head()"
   ]
  },
  {
   "cell_type": "markdown",
   "id": "85f3b811",
   "metadata": {},
   "source": [
    "# Stratified Subsample"
   ]
  },
  {
   "cell_type": "code",
   "execution_count": null,
   "id": "fa7df4e1",
   "metadata": {},
   "outputs": [],
   "source": [
    "stratify_list = ['HeartDisease', 'AgeCategory', 'Stroke', 'Sex', 'GenHealth']\n",
    "heart2 = heart.groupby(stratify_list, group_keys=False).apply(lambda x: x.sample(frac=0.1, random_state = 42))"
   ]
  },
  {
   "cell_type": "markdown",
   "id": "2236cb00",
   "metadata": {},
   "source": [
    "# 50-50 split Subsample"
   ]
  },
  {
   "cell_type": "code",
   "execution_count": 3,
   "id": "97d889df",
   "metadata": {},
   "outputs": [],
   "source": [
    "stratify_list = ['AgeCategory', 'Stroke', 'Sex', 'GenHealth']\n",
    "heartYes = heart[heart.HeartDisease == 'Yes']\n",
    "\n",
    "heartNo = heart[heart.HeartDisease == 'No']\n",
    "no_sample = heartNo.groupby(stratify_list, group_keys=False).apply(lambda x: x.sample(frac=0.1, random_state = 42))"
   ]
  },
  {
   "cell_type": "code",
   "execution_count": 4,
   "id": "2f73ab7e",
   "metadata": {},
   "outputs": [],
   "source": [
    "heart50 = pd.concat([heartYes, no_sample], axis = 0)\n",
    "heart50 = heart50.sample(frac=1).reset_index(drop=True) # shuffle rows, reset index"
   ]
  },
  {
   "cell_type": "code",
   "execution_count": 5,
   "id": "30263fbf",
   "metadata": {
    "scrolled": true
   },
   "outputs": [
    {
     "name": "stdout",
     "output_type": "stream",
     "text": [
      "[29230 27373]\n"
     ]
    }
   ],
   "source": [
    "_, count2 = np.unique(np.asarray(heart50['HeartDisease']),  return_counts = True)\n",
    "print(count2)"
   ]
  },
  {
   "cell_type": "code",
   "execution_count": null,
   "id": "13d2964c",
   "metadata": {},
   "outputs": [],
   "source": [
    "#heart50.to_csv('heart2.csv', index=False)"
   ]
  },
  {
   "cell_type": "markdown",
   "id": "02c40e69",
   "metadata": {},
   "source": [
    "## Preprocessing"
   ]
  },
  {
   "cell_type": "code",
   "execution_count": 7,
   "id": "d0c17188",
   "metadata": {},
   "outputs": [],
   "source": [
    "# convert into ordinal\n",
    "\n",
    "agecategories = list(heart50.AgeCategory.unique())\n",
    "ageMidpoints = [57, 90, 67, 77, 42, 72, 62, 52, 47, 21, 37, 32, 27]\n",
    "heart50.AgeCategory.replace(agecategories, ageMidpoints, inplace = True)\n",
    "\n",
    "healthcategories = list(heart50.GenHealth.unique())\n",
    "healthlevels = [4, 2, 3, 1, 5]\n",
    "heart50.GenHealth.replace(healthcategories, healthlevels, inplace = True)"
   ]
  },
  {
   "cell_type": "code",
   "execution_count": 8,
   "id": "8d3263be",
   "metadata": {},
   "outputs": [],
   "source": [
    "# Yes No columns into 1, 0\n",
    "\n",
    "bin_columns = [\"HeartDisease\", \"Smoking\", \"AlcoholDrinking\", \"Stroke\", \"DiffWalking\", \"PhysicalActivity\", \"Asthma\", \"KidneyDisease\", \"SkinCancer\"]\n",
    "\n",
    "heart50[bin_columns] = heart50[bin_columns].apply(lambda x: x.map({'Yes':1,'No':0}))\n",
    "#heart2.head()"
   ]
  },
  {
   "cell_type": "code",
   "execution_count": 9,
   "id": "080ac273",
   "metadata": {},
   "outputs": [],
   "source": [
    "# dummy columns for categorical variables\n",
    "\n",
    "categoricals = heart50.select_dtypes(include=['object'])\n",
    "categoricals.head()\n",
    "cat_dummies = pd.get_dummies(categoricals, drop_first=True)\n",
    "\n",
    "# Drop the redundant columns\n",
    "heart50.drop(list(categoricals.columns), axis=1, inplace=True)\n",
    "\n",
    "# concat the heart and dummies data frames.\n",
    "heart50 = pd.concat([heart50, cat_dummies], axis=1)\n"
   ]
  },
  {
   "cell_type": "code",
   "execution_count": 28,
   "id": "799d5ccc",
   "metadata": {
    "scrolled": true
   },
   "outputs": [],
   "source": [
    "#heart50.head()"
   ]
  },
  {
   "cell_type": "markdown",
   "id": "9a777e9e",
   "metadata": {},
   "source": [
    "## Train-Test Split"
   ]
  },
  {
   "cell_type": "code",
   "execution_count": 11,
   "id": "57736d42",
   "metadata": {},
   "outputs": [],
   "source": [
    "from sklearn.model_selection import train_test_split\n",
    "\n",
    "train50, test50 = train_test_split(heart50, test_size = 0.2, random_state = 42, stratify = heart50.HeartDisease)"
   ]
  },
  {
   "cell_type": "code",
   "execution_count": 12,
   "id": "5f6aa60e",
   "metadata": {},
   "outputs": [],
   "source": [
    "train50.to_csv('train50.csv', index=False)\n",
    "test50.to_csv('test50.csv', index=False)"
   ]
  },
  {
   "cell_type": "code",
   "execution_count": 13,
   "id": "2720a6c0",
   "metadata": {},
   "outputs": [],
   "source": [
    "train50_label = train50['HeartDisease']\n",
    "train50_set = train50.drop(['HeartDisease'], axis = 1)\n",
    "\n",
    "test50_label = test50['HeartDisease']\n",
    "test50_set = test50.drop(['HeartDisease'], axis = 1)"
   ]
  },
  {
   "cell_type": "markdown",
   "id": "b60590c3",
   "metadata": {},
   "source": [
    "# SMOTE"
   ]
  },
  {
   "cell_type": "markdown",
   "id": "e06048d9",
   "metadata": {},
   "source": [
    "NOTE: SMOTE should be applied after the sampling and preprocessing steps"
   ]
  },
  {
   "cell_type": "code",
   "execution_count": null,
   "id": "36ea09ce",
   "metadata": {
    "scrolled": true
   },
   "outputs": [],
   "source": [
    "y = heart2.iloc[:,0]\n",
    "X = heart2.drop(['HeartDisease'], axis = 1)\n",
    "\n",
    "from imblearn.over_sampling import SMOTE\n",
    "os = SMOTE(random_state = 42)\n",
    "X_train, X_test, y_train, y_test = train_test_split(X, y, test_size=0.2, random_state=42)\n",
    "columns = X_train.columns\n",
    "\n",
    "os_train_X, os_train_y = os.fit_resample(X_train, y_train)\n",
    "#os_train_X = pd.DataFrame(data = os_train_X, columns = columns )\n",
    "#os_train_y = pd.DataFrame(data = os_train_y, columns = ['HeartDisease'])"
   ]
  },
  {
   "cell_type": "code",
   "execution_count": null,
   "id": "1ba61753",
   "metadata": {},
   "outputs": [],
   "source": [
    "_, count1 = np.unique(y, return_counts = True)\n",
    "print(count1)\n",
    "\n",
    "_, count2 = np.unique(os_train_y,  return_counts = True)\n",
    "print(count2)"
   ]
  },
  {
   "cell_type": "markdown",
   "id": "99fd90f9",
   "metadata": {},
   "source": [
    "# Export data"
   ]
  },
  {
   "cell_type": "code",
   "execution_count": null,
   "id": "d4a4ee98",
   "metadata": {},
   "outputs": [],
   "source": [
    "os_X = pd.DataFrame(data = os_train_X, columns = columns )\n",
    "os_y = pd.DataFrame(data = os_train_y, columns = ['HeartDisease'])\n",
    "train_smoted = pd.concat([os_y, os_X], axis = 1)\n",
    "\n",
    "train_smoted.to_csv('train_smoted.csv', index=False)"
   ]
  },
  {
   "cell_type": "code",
   "execution_count": null,
   "id": "ce6c994d",
   "metadata": {},
   "outputs": [],
   "source": [
    "test_smoted = pd.concat([y_test, X_test], axis = 1)\n",
    "test_smoted.to_csv('test_smoted.csv', index=False)"
   ]
  }
 ],
 "metadata": {
  "kernelspec": {
   "display_name": "Python 3 (ipykernel)",
   "language": "python",
   "name": "python3"
  },
  "language_info": {
   "codemirror_mode": {
    "name": "ipython",
    "version": 3
   },
   "file_extension": ".py",
   "mimetype": "text/x-python",
   "name": "python",
   "nbconvert_exporter": "python",
   "pygments_lexer": "ipython3",
   "version": "3.9.6"
  }
 },
 "nbformat": 4,
 "nbformat_minor": 5
}
